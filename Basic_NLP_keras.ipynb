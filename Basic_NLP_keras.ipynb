{
  "nbformat": 4,
  "nbformat_minor": 0,
  "metadata": {
    "colab": {
      "name": "Basic_NLP_keras.ipynb",
      "provenance": [],
      "authorship_tag": "ABX9TyPR+bZ5v/Juh70tA+mG9pxe",
      "include_colab_link": true
    },
    "kernelspec": {
      "name": "python3",
      "display_name": "Python 3"
    },
    "language_info": {
      "name": "python"
    }
  },
  "cells": [
    {
      "cell_type": "markdown",
      "metadata": {
        "id": "view-in-github",
        "colab_type": "text"
      },
      "source": [
        "<a href=\"https://colab.research.google.com/github/dchatterjee/language/blob/main/Basic_NLP_keras.ipynb\" target=\"_parent\"><img src=\"https://colab.research.google.com/assets/colab-badge.svg\" alt=\"Open In Colab\"/></a>"
      ]
    },
    {
      "cell_type": "code",
      "execution_count": 2,
      "metadata": {
        "id": "rJ7NqGeZ4nOT"
      },
      "outputs": [],
      "source": [
        "import tensorflow as tf\n",
        "from tensorflow import keras\n",
        "from tensorflow.keras.preprocessing.text import Tokenizer"
      ]
    },
    {
      "cell_type": "code",
      "source": [
        "sentences = [\n",
        "             \"I am from India\",\n",
        "             \"I love my dog\",\n",
        "             \"I love my cat\",\n",
        "             \"I will be at the airport lounge\"\n",
        "]"
      ],
      "metadata": {
        "id": "H8ukhZoS5CQg"
      },
      "execution_count": 8,
      "outputs": []
    },
    {
      "cell_type": "code",
      "source": [
        "tokenizer = Tokenizer(num_words = 100, oov_token=\"<OOV>\")\n",
        "tokenizer.fit_on_texts(sentences)\n",
        "word_index = tokenizer.word_index\n",
        "print(word_index)"
      ],
      "metadata": {
        "colab": {
          "base_uri": "https://localhost:8080/"
        },
        "id": "jQ_9UW1M5XJY",
        "outputId": "6eec2254-3308-45ed-9883-54d5c105e196"
      },
      "execution_count": 17,
      "outputs": [
        {
          "output_type": "stream",
          "name": "stdout",
          "text": [
            "{'<OOV>': 1, 'i': 2, 'love': 3, 'my': 4, 'am': 5, 'from': 6, 'india': 7, 'dog': 8, 'cat': 9, 'will': 10, 'be': 11, 'at': 12, 'the': 13, 'airport': 14, 'lounge': 15}\n"
          ]
        }
      ]
    },
    {
      "cell_type": "code",
      "source": [
        "sequences = tokenizer.texts_to_sequences(sentences)"
      ],
      "metadata": {
        "id": "X8p_swd45rEc"
      },
      "execution_count": 18,
      "outputs": []
    },
    {
      "cell_type": "code",
      "source": [
        "print(sequences)"
      ],
      "metadata": {
        "colab": {
          "base_uri": "https://localhost:8080/"
        },
        "id": "1NNCuK6w6-Rf",
        "outputId": "6c36a3e4-7641-4671-c33e-f9ea53e55c3d"
      },
      "execution_count": 19,
      "outputs": [
        {
          "output_type": "stream",
          "name": "stdout",
          "text": [
            "[[2, 5, 6, 7], [2, 3, 4, 8], [2, 3, 4, 9], [2, 10, 11, 12, 13, 14, 15]]\n"
          ]
        }
      ]
    },
    {
      "cell_type": "code",
      "source": [
        "test_sentences = [\n",
        "                  \"I am from goa\",\n",
        "                  \"I love to eat biriyani\"\n",
        "]\n",
        "\n",
        "test_sequences = tokenizer.texts_to_sequences(test_sentences)"
      ],
      "metadata": {
        "id": "DiK3DulJ7APH"
      },
      "execution_count": 22,
      "outputs": []
    },
    {
      "cell_type": "code",
      "source": [
        "print(test_sequences)"
      ],
      "metadata": {
        "colab": {
          "base_uri": "https://localhost:8080/"
        },
        "id": "pNsV6v4E7ioU",
        "outputId": "7bae74ed-724f-43d5-83c6-c0a9beb10ce9"
      },
      "execution_count": 23,
      "outputs": [
        {
          "output_type": "stream",
          "name": "stdout",
          "text": [
            "[[2, 5, 6, 1], [2, 3, 1, 1, 1]]\n"
          ]
        }
      ]
    },
    {
      "cell_type": "code",
      "source": [
        ""
      ],
      "metadata": {
        "id": "QyL2DuzC7shX"
      },
      "execution_count": null,
      "outputs": []
    }
  ]
}